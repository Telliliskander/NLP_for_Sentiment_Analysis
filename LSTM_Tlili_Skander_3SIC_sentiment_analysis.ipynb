{
  "cells": [
    {
      "cell_type": "markdown",
      "metadata": {
        "id": "9TnJztDZGw-n"
      },
      "source": [
        "# Sentiment analysis with an LSTM\n"
      ]
    },
    {
      "cell_type": "markdown",
      "metadata": {
        "id": "_2VQo4bajwUU"
      },
      "source": [
        "## Setup"
      ]
    },
    {
      "cell_type": "code",
      "execution_count": null,
      "metadata": {
        "id": "z682XYsrjkY9"
      },
      "outputs": [],
      "source": [
        "import numpy as np\n",
        "\n",
        "import tensorflow_datasets as tfds\n",
        "import tensorflow as tf\n",
        "\n",
        "tfds.disable_progress_bar()"
      ]
    },
    {
      "cell_type": "markdown",
      "metadata": {
        "id": "1rXHa-w9JZhb"
      },
      "source": [
        "Import `matplotlib` and create a helper function to plot graphs:"
      ]
    },
    {
      "cell_type": "code",
      "execution_count": null,
      "metadata": {
        "id": "Mp1Z7P9pYRSK"
      },
      "outputs": [],
      "source": [
        "import matplotlib.pyplot as plt\n",
        "\n",
        "\n",
        "def plot_graphs(history, metric):\n",
        "  plt.plot(history.history[metric])\n",
        "  plt.plot(history.history['val_'+metric], '')\n",
        "  plt.xlabel(\"Epochs\")\n",
        "  plt.ylabel(metric)\n",
        "  plt.legend([metric, 'val_'+metric])"
      ]
    },
    {
      "cell_type": "markdown",
      "metadata": {
        "id": "pRmMubr0jrE2"
      },
      "source": [
        "## Setup input pipeline\n",
        "\n",
        "\n",
        "The IMDB large movie review dataset is a *binary classification* dataset—all the reviews have either a *positive* or *negative* sentiment.\n",
        "\n",
        "Download the dataset using [TFDS](https://www.tensorflow.org/datasets). See the [loading text tutorial](https://www.tensorflow.org/tutorials/load_data/text) for details on how to load this sort of data manually.\n"
      ]
    },
    {
      "cell_type": "code",
      "execution_count": null,
      "metadata": {
        "id": "SHRwRoP2nVHX",
        "outputId": "c6eb090b-77f4-4371-9517-a5f914c86536",
        "colab": {
          "base_uri": "https://localhost:8080/"
        }
      },
      "outputs": [
        {
          "output_type": "stream",
          "name": "stdout",
          "text": [
            "Downloading and preparing dataset 80.23 MiB (download: 80.23 MiB, generated: Unknown size, total: 80.23 MiB) to /root/tensorflow_datasets/imdb_reviews/plain_text/1.0.0...\n",
            "Dataset imdb_reviews downloaded and prepared to /root/tensorflow_datasets/imdb_reviews/plain_text/1.0.0. Subsequent calls will reuse this data.\n"
          ]
        },
        {
          "output_type": "execute_result",
          "data": {
            "text/plain": [
              "(TensorSpec(shape=(), dtype=tf.string, name=None),\n",
              " TensorSpec(shape=(), dtype=tf.int64, name=None))"
            ]
          },
          "metadata": {},
          "execution_count": 3
        }
      ],
      "source": [
        "dataset, info = tfds.load('imdb_reviews', with_info=True,\n",
        "                          as_supervised=True)\n",
        "train_dataset, test_dataset = dataset['train'], dataset['test']\n",
        "\n",
        "train_dataset.element_spec"
      ]
    },
    {
      "cell_type": "code",
      "source": [
        "dataset"
      ],
      "metadata": {
        "id": "hPUva5-wjFFS",
        "outputId": "da0a3ea2-5ff3-4e25-d509-616162edd32d",
        "colab": {
          "base_uri": "https://localhost:8080/"
        }
      },
      "execution_count": null,
      "outputs": [
        {
          "output_type": "execute_result",
          "data": {
            "text/plain": [
              "{Split('train'): <_PrefetchDataset element_spec=(TensorSpec(shape=(), dtype=tf.string, name=None), TensorSpec(shape=(), dtype=tf.int64, name=None))>,\n",
              " Split('test'): <_PrefetchDataset element_spec=(TensorSpec(shape=(), dtype=tf.string, name=None), TensorSpec(shape=(), dtype=tf.int64, name=None))>,\n",
              " Split('unsupervised'): <_PrefetchDataset element_spec=(TensorSpec(shape=(), dtype=tf.string, name=None), TensorSpec(shape=(), dtype=tf.int64, name=None))>}"
            ]
          },
          "metadata": {},
          "execution_count": 4
        }
      ]
    },
    {
      "cell_type": "code",
      "source": [
        "tf.data.experimental.cardinality(train_dataset).numpy()"
      ],
      "metadata": {
        "id": "GmcsLLCzly8c",
        "outputId": "bda5fdd3-e1b4-4c53-aaf5-8609b5c698dc",
        "colab": {
          "base_uri": "https://localhost:8080/"
        }
      },
      "execution_count": null,
      "outputs": [
        {
          "output_type": "execute_result",
          "data": {
            "text/plain": [
              "25000"
            ]
          },
          "metadata": {},
          "execution_count": 5
        }
      ]
    },
    {
      "cell_type": "code",
      "source": [
        "num_elements = len(train_dataset)\n",
        "print(\"Number of elements in the dataset:\", num_elements)"
      ],
      "metadata": {
        "id": "8oVqC95zlL6t",
        "outputId": "864f2e96-01c3-44ae-e9a3-d141083f8f92",
        "colab": {
          "base_uri": "https://localhost:8080/"
        }
      },
      "execution_count": null,
      "outputs": [
        {
          "output_type": "stream",
          "name": "stdout",
          "text": [
            "Number of elements in the dataset: 25000\n"
          ]
        }
      ]
    },
    {
      "cell_type": "markdown",
      "metadata": {
        "id": "nWA4c2ir7g6p"
      },
      "source": [
        "Initially this returns a dataset of (text, label pairs):"
      ]
    },
    {
      "cell_type": "code",
      "source": [
        "for example in train_dataset.take(2):  # Adjust the number as needed\n",
        "    print(\"Example:\", example)"
      ],
      "metadata": {
        "id": "DnSvKLcnla46",
        "outputId": "3acd9c6b-4d62-4399-bf59-c7550f0e6fb8",
        "colab": {
          "base_uri": "https://localhost:8080/"
        }
      },
      "execution_count": null,
      "outputs": [
        {
          "output_type": "stream",
          "name": "stdout",
          "text": [
            "Example: (<tf.Tensor: shape=(), dtype=string, numpy=b\"This was an absolutely terrible movie. Don't be lured in by Christopher Walken or Michael Ironside. Both are great actors, but this must simply be their worst role in history. Even their great acting could not redeem this movie's ridiculous storyline. This movie is an early nineties US propaganda piece. The most pathetic scenes were those when the Columbian rebels were making their cases for revolutions. Maria Conchita Alonso appeared phony, and her pseudo-love affair with Walken was nothing but a pathetic emotional plug in a movie that was devoid of any real meaning. I am disappointed that there are movies like this, ruining actor's like Christopher Walken's good name. I could barely sit through it.\">, <tf.Tensor: shape=(), dtype=int64, numpy=0>)\n",
            "Example: (<tf.Tensor: shape=(), dtype=string, numpy=b'I have been known to fall asleep during films, but this is usually due to a combination of things including, really tired, being warm and comfortable on the sette and having just eaten a lot. However on this occasion I fell asleep because the film was rubbish. The plot development was constant. Constantly slow and boring. Things seemed to happen, but with no explanation of what was causing them or why. I admit, I may have missed part of the film, but i watched the majority of it and everything just seemed to happen of its own accord without any real concern for anything else. I cant recommend this film at all.'>, <tf.Tensor: shape=(), dtype=int64, numpy=0>)\n"
          ]
        }
      ]
    },
    {
      "cell_type": "code",
      "execution_count": null,
      "metadata": {
        "id": "vd4_BGKyurao",
        "outputId": "15d6cb5c-4964-458e-f468-e570bc325902",
        "colab": {
          "base_uri": "https://localhost:8080/"
        }
      },
      "outputs": [
        {
          "output_type": "stream",
          "name": "stdout",
          "text": [
            "text:  b\"This was an absolutely terrible movie. Don't be lured in by Christopher Walken or Michael Ironside. Both are great actors, but this must simply be their worst role in history. Even their great acting could not redeem this movie's ridiculous storyline. This movie is an early nineties US propaganda piece. The most pathetic scenes were those when the Columbian rebels were making their cases for revolutions. Maria Conchita Alonso appeared phony, and her pseudo-love affair with Walken was nothing but a pathetic emotional plug in a movie that was devoid of any real meaning. I am disappointed that there are movies like this, ruining actor's like Christopher Walken's good name. I could barely sit through it.\"\n",
            "label:  0\n",
            "text:  b'I have been known to fall asleep during films, but this is usually due to a combination of things including, really tired, being warm and comfortable on the sette and having just eaten a lot. However on this occasion I fell asleep because the film was rubbish. The plot development was constant. Constantly slow and boring. Things seemed to happen, but with no explanation of what was causing them or why. I admit, I may have missed part of the film, but i watched the majority of it and everything just seemed to happen of its own accord without any real concern for anything else. I cant recommend this film at all.'\n",
            "label:  0\n"
          ]
        }
      ],
      "source": [
        "for example, label in train_dataset.take(2):\n",
        "  print('text: ', example.numpy())\n",
        "  print('label: ', label.numpy())"
      ]
    },
    {
      "cell_type": "code",
      "source": [
        "type(train_dataset.take(2))"
      ],
      "metadata": {
        "id": "HbdJKQBpmHQZ",
        "outputId": "aadf1ed8-b844-4d80-9a8d-027bf2baec1e",
        "colab": {
          "base_uri": "https://localhost:8080/"
        }
      },
      "execution_count": null,
      "outputs": [
        {
          "output_type": "execute_result",
          "data": {
            "text/plain": [
              "tensorflow.python.data.ops.take_op._TakeDataset"
            ]
          },
          "metadata": {},
          "execution_count": 9
        }
      ]
    },
    {
      "cell_type": "markdown",
      "metadata": {
        "id": "z2qVJzcEluH_"
      },
      "source": [
        "Next shuffle the data for training and create batches of these `(text, label)` pairs:"
      ]
    },
    {
      "cell_type": "code",
      "execution_count": null,
      "metadata": {
        "id": "dDsCaZCDYZgm"
      },
      "outputs": [],
      "source": [
        "BUFFER_SIZE = 10000\n",
        "BATCH_SIZE = 64"
      ]
    },
    {
      "cell_type": "code",
      "execution_count": null,
      "metadata": {
        "id": "VznrltNOnUc5"
      },
      "outputs": [],
      "source": [
        "train_dataset = train_dataset.shuffle(BUFFER_SIZE).batch(BATCH_SIZE).prefetch(tf.data.AUTOTUNE)\n",
        "test_dataset = test_dataset.batch(BATCH_SIZE).prefetch(tf.data.AUTOTUNE)"
      ]
    },
    {
      "cell_type": "code",
      "execution_count": null,
      "metadata": {
        "id": "jqkvdcFv41wC",
        "colab": {
          "base_uri": "https://localhost:8080/"
        },
        "outputId": "6d596d98-3f5e-4d18-d5fd-042b540bed7d"
      },
      "outputs": [
        {
          "output_type": "stream",
          "name": "stdout",
          "text": [
            "texts:  [b\"I saw this film first on my way home from Paris to Newark aboard Air France in August 1996. The film itself I believe is quite a masterpiece. It's the kind of film that people should be making. I still think Daniel Auteuil is one of the sexiest actors around. In this French film, he plays a divorced father and businessman who has lost his zest for life until he across a Down Syndrome man who lives in an institution with other Down Syndrome patients. The actors including the actor who actually has Down Syndrome create a believable friendship and relationship between these two unlikely men. Daniel's life and ours changes forever with the Down Syndrome man. He realizes that life is not just work and not play but for the living and loving and that's what life should be all about. The ending is kind of silly though but I still think it's one of my favorite movies. It's enough to bring a tear to your eye.\"\n",
            " b\"The best film about marriage and family. This is a very interesting reflections to the couples that will be come to the dangerous and paradoxical fascinating world of marriage and family. This decision could be the better or the worst in our lives and the life of our kids. The real intrusion or help of 'friends' -or executioner if we leave-. The real role of families: they can help or they can destroy us. The mad priest who possibly is not much mad telling what could happen according the statistics and the reality. A couple who thinks in a 'special' marriage, live a painful story in their future own history.<br /><br />Who likes contract marriage? Nobody, after the priest tells their own history\\xc2\\x85 if they leave the future in another hands, if they don't know WHAT is the marriage. That the problems are true, that the life demand a real engage, guaranties, from each one. That the real victims of the divorce are kids, with real name \\xc2\\x96Andrea in the film- or names. That the abortion is only an easy exit: sadness, regrets and unhappiness will be there after abortion. That the state and social security thinks every time less in a real problems of the families. The gossip of the 'friends', the infidelity because of weakness and desperation of Steffania because Tomasso lives his life as if he were alone.<br /><br />Maybe someone could think that this film is a pessimistic film, but not. Steffania and Tomasso, in the deep of their hearts, they like a beautiful marriage and family, if not, Why they like marriage? A truly and beautiful marriage depends only of the couple: of each one of their decisions, of each one actions in their lives. The family could be a place where each one feel loved because being his or her, only by existing. The screenplay is wonderful. The performances are great: Steffania and Tomasso, \\xc2\\xa1the almost cynical priest! An excellent direction and script. The colors and the management of the cameras, superb.\"\n",
            " b\"Wow, this was a very bad movie... as read in other comments this movie has no plot, no character development, they possibly had some kind of script but it's difficult to tell based on the actual end result.<br /><br />The editing of this movie was really non-existent, it tends to jump from scene to scene without any connection or anything to assist the viewer in determining what is actually happening.<br /><br />All in all this is simply a low budget zombie flick that was not thought out at all, has bad acting, bad dialogue, bad everything.<br /><br />The only thing that saves this movie from a 1 or 2 is the gore factor, I think this must be where they spent whatever money they had to try to justify making this.<br /><br />Unless you are (like me) dedicated to finding and watching all the zombie flicks you can find, do not watch this. Period.\"]\n",
            "\n",
            "labels:  [1 1 0]\n"
          ]
        }
      ],
      "source": [
        "for example, label in train_dataset.take(1):\n",
        "  print('texts: ', example.numpy()[:3])\n",
        "  print()\n",
        "  print('labels: ', label.numpy()[:3])"
      ]
    },
    {
      "cell_type": "markdown",
      "source": [
        "This code is just to see how buffers work on the dataset"
      ],
      "metadata": {
        "id": "7ntUCMlvnGfc"
      }
    },
    {
      "cell_type": "code",
      "source": [
        "# import tensorflow as tf\n",
        "\n",
        "# # Create a simple dataset of integers from 0 to 9\n",
        "# dataset = tf.data.Dataset.range(10)\n",
        "\n",
        "# # Define parameters\n",
        "# BUFFER_SIZE = 5  # Number of elements to buffer while shuffling\n",
        "# BATCH_SIZE = 2   # Number of elements in each batch\n",
        "\n",
        "# # Shuffle, batch, and prefetch the dataset\n",
        "# shuffled_batched_prefetched_dataset = (\n",
        "#     dataset.shuffle(BUFFER_SIZE)\n",
        "#            .batch(BATCH_SIZE)\n",
        "#            .prefetch(tf.data.AUTOTUNE)\n",
        "# )\n",
        "\n",
        "# # Iterate through the dataset\n",
        "# for batch in shuffled_batched_prefetched_dataset:\n",
        "#     print(\"Batch:\", batch.numpy())\n"
      ],
      "metadata": {
        "id": "XPNFqPV9n5jk",
        "outputId": "8586ca8c-7611-4f74-8369-a5d2f981226e",
        "colab": {
          "base_uri": "https://localhost:8080/"
        }
      },
      "execution_count": null,
      "outputs": [
        {
          "output_type": "stream",
          "name": "stdout",
          "text": [
            "Batch: [3 0]\n",
            "Batch: [2 1]\n",
            "Batch: [4 7]\n",
            "Batch: [6 8]\n",
            "Batch: [9 5]\n"
          ]
        }
      ]
    },
    {
      "cell_type": "markdown",
      "metadata": {
        "id": "s5eWCo88voPY"
      },
      "source": [
        "## Create the text encoder"
      ]
    },
    {
      "cell_type": "markdown",
      "metadata": {
        "id": "TFevcItw15P_"
      },
      "source": [
        "The raw text loaded by `tfds` needs to be processed before it can be used in a model. The simplest way to process text for training is using the `TextVectorization` layer. This layer has many capabilities, but this tutorial sticks to the default behavior.\n",
        "\n",
        "Create the layer, and pass the dataset's text to the layer's `.adapt` method:"
      ]
    },
    {
      "cell_type": "code",
      "source": [
        "train_dataset.map(lambda text, label: text)"
      ],
      "metadata": {
        "colab": {
          "base_uri": "https://localhost:8080/"
        },
        "id": "vOHXYKOSljKq",
        "outputId": "4b54f4a2-6a4e-4758-89f5-5d5b8c875528"
      },
      "execution_count": null,
      "outputs": [
        {
          "output_type": "execute_result",
          "data": {
            "text/plain": [
              "<_MapDataset element_spec=TensorSpec(shape=(None,), dtype=tf.string, name=None)>"
            ]
          },
          "metadata": {},
          "execution_count": 14
        }
      ]
    },
    {
      "cell_type": "code",
      "execution_count": null,
      "metadata": {
        "id": "uC25Lu1Yvuqy"
      },
      "outputs": [],
      "source": [
        "VOCAB_SIZE = 1000\n",
        "encoder = tf.keras.layers.TextVectorization(\n",
        "    max_tokens=VOCAB_SIZE)\n",
        "encoder.adapt(train_dataset.map(lambda text, label: text))"
      ]
    },
    {
      "cell_type": "markdown",
      "metadata": {
        "id": "IuQzVBbe3Ldu"
      },
      "source": [
        "The `.adapt` method sets the layer's vocabulary. Here are the first 20 tokens. After the padding and unknown tokens they're sorted by frequency:"
      ]
    },
    {
      "cell_type": "code",
      "execution_count": null,
      "metadata": {
        "id": "tBoyjjWg0Ac9",
        "colab": {
          "base_uri": "https://localhost:8080/"
        },
        "outputId": "aaef8ea0-e164-4ac5-af30-216ff6ba14e5"
      },
      "outputs": [
        {
          "output_type": "execute_result",
          "data": {
            "text/plain": [
              "array(['', '[UNK]', 'the', 'and', 'a', 'of', 'to', 'is', 'in', 'it', 'i',\n",
              "       'this', 'that', 'br', 'was', 'as', 'for', 'with', 'movie', 'but'],\n",
              "      dtype='<U14')"
            ]
          },
          "metadata": {},
          "execution_count": 16
        }
      ],
      "source": [
        "vocab = np.array(encoder.get_vocabulary())\n",
        "vocab[:20]"
      ]
    },
    {
      "cell_type": "markdown",
      "metadata": {
        "id": "mjId5pua3jHQ"
      },
      "source": [
        "Once the vocabulary is set, the layer can encode text into indices. The tensors of indices are 0-padded to the longest sequence in the batch (unless you set a fixed `output_sequence_length`):"
      ]
    },
    {
      "cell_type": "code",
      "execution_count": null,
      "metadata": {
        "id": "RGc7C9WiwRWs",
        "colab": {
          "base_uri": "https://localhost:8080/"
        },
        "outputId": "c4743652-a93e-48ff-ebcd-7b1760e76503"
      },
      "outputs": [
        {
          "output_type": "execute_result",
          "data": {
            "text/plain": [
              "array([[ 10, 208,  11, ...,   0,   0,   0],\n",
              "       [  2, 115,  20, ...,   0,   0,   0],\n",
              "       [  1,  11,  14, ...,   0,   0,   0]])"
            ]
          },
          "metadata": {},
          "execution_count": 17
        }
      ],
      "source": [
        "encoded_example = encoder(example)[:3].numpy()\n",
        "encoded_example"
      ]
    },
    {
      "cell_type": "markdown",
      "metadata": {
        "id": "F5cjz0bS39IN"
      },
      "source": [
        "With the default settings, the process is not completely reversible. There are three main reasons for that:\n",
        "\n",
        "1. The default value for `preprocessing.TextVectorization`'s `standardize` argument is `\"lower_and_strip_punctuation\"`.\n",
        "2. The limited vocabulary size and lack of character-based fallback results in some unknown tokens."
      ]
    },
    {
      "cell_type": "code",
      "execution_count": null,
      "metadata": {
        "id": "N_tD0QY5wXaK",
        "colab": {
          "base_uri": "https://localhost:8080/"
        },
        "outputId": "8ebdd048-1000-40a8-9032-542d4a83d123"
      },
      "outputs": [
        {
          "output_type": "stream",
          "name": "stdout",
          "text": [
            "Original:  b\"I saw this film first on my way home from Paris to Newark aboard Air France in August 1996. The film itself I believe is quite a masterpiece. It's the kind of film that people should be making. I still think Daniel Auteuil is one of the sexiest actors around. In this French film, he plays a divorced father and businessman who has lost his zest for life until he across a Down Syndrome man who lives in an institution with other Down Syndrome patients. The actors including the actor who actually has Down Syndrome create a believable friendship and relationship between these two unlikely men. Daniel's life and ours changes forever with the Down Syndrome man. He realizes that life is not just work and not play but for the living and loving and that's what life should be all about. The ending is kind of silly though but I still think it's one of my favorite movies. It's enough to bring a tear to your eye.\"\n",
            "Round-trip:  i saw this film first on my way home from [UNK] to [UNK] [UNK] air [UNK] in [UNK] [UNK] the film itself i believe is quite a [UNK] its the kind of film that people should be making i still think [UNK] [UNK] is one of the [UNK] actors around in this french film he plays a [UNK] father and [UNK] who has lost his [UNK] for life until he across a down [UNK] man who lives in an [UNK] with other down [UNK] [UNK] the actors including the actor who actually has down [UNK] create a believable [UNK] and relationship between these two [UNK] men [UNK] life and [UNK] [UNK] [UNK] with the down [UNK] man he [UNK] that life is not just work and not play but for the living and [UNK] and thats what life should be all about the ending is kind of silly though but i still think its one of my favorite movies its enough to bring a [UNK] to your eye                                                                                                                                                                                                                                                                                                                                                                                                                                                                                                                                                                                                                                                                                                                                                                                                                                                        \n",
            "\n",
            "Original:  b\"The best film about marriage and family. This is a very interesting reflections to the couples that will be come to the dangerous and paradoxical fascinating world of marriage and family. This decision could be the better or the worst in our lives and the life of our kids. The real intrusion or help of 'friends' -or executioner if we leave-. The real role of families: they can help or they can destroy us. The mad priest who possibly is not much mad telling what could happen according the statistics and the reality. A couple who thinks in a 'special' marriage, live a painful story in their future own history.<br /><br />Who likes contract marriage? Nobody, after the priest tells their own history\\xc2\\x85 if they leave the future in another hands, if they don't know WHAT is the marriage. That the problems are true, that the life demand a real engage, guaranties, from each one. That the real victims of the divorce are kids, with real name \\xc2\\x96Andrea in the film- or names. That the abortion is only an easy exit: sadness, regrets and unhappiness will be there after abortion. That the state and social security thinks every time less in a real problems of the families. The gossip of the 'friends', the infidelity because of weakness and desperation of Steffania because Tomasso lives his life as if he were alone.<br /><br />Maybe someone could think that this film is a pessimistic film, but not. Steffania and Tomasso, in the deep of their hearts, they like a beautiful marriage and family, if not, Why they like marriage? A truly and beautiful marriage depends only of the couple: of each one of their decisions, of each one actions in their lives. The family could be a place where each one feel loved because being his or her, only by existing. The screenplay is wonderful. The performances are great: Steffania and Tomasso, \\xc2\\xa1the almost cynical priest! An excellent direction and script. The colors and the management of the cameras, superb.\"\n",
            "Round-trip:  the best film about [UNK] and family this is a very interesting [UNK] to the [UNK] that will be come to the [UNK] and [UNK] [UNK] world of [UNK] and family this [UNK] could be the better or the worst in our lives and the life of our kids the real [UNK] or help of friends or [UNK] if we leave the real role of [UNK] they can help or they can [UNK] us the [UNK] [UNK] who possibly is not much [UNK] [UNK] what could happen [UNK] the [UNK] and the reality a couple who [UNK] in a special [UNK] live a [UNK] story in their future own [UNK] br who [UNK] [UNK] [UNK] [UNK] after the [UNK] tells their own [UNK] if they leave the future in another hands if they dont know what is the [UNK] that the problems are true that the life [UNK] a real [UNK] [UNK] from each one that the real [UNK] of the [UNK] are kids with real name [UNK] in the film or [UNK] that the [UNK] is only an easy [UNK] [UNK] [UNK] and [UNK] will be there after [UNK] that the [UNK] and [UNK] [UNK] [UNK] every time less in a real problems of the [UNK] the [UNK] of the friends the [UNK] because of [UNK] and [UNK] of [UNK] because [UNK] lives his life as if he were [UNK] br maybe someone could think that this film is a [UNK] film but not [UNK] and [UNK] in the deep of their [UNK] they like a beautiful [UNK] and family if not why they like [UNK] a truly and beautiful [UNK] [UNK] only of the couple of each one of their [UNK] of each one [UNK] in their lives the family could be a place where each one feel loved because being his or her only by [UNK] the screenplay is wonderful the performances are great [UNK] and [UNK] [UNK] almost [UNK] [UNK] an excellent direction and script the [UNK] and the [UNK] of the [UNK] superb                                                                                                                                                                                                                                                                                                                                                                                                                                                                                                                                                                                                                                                                              \n",
            "\n",
            "Original:  b\"Wow, this was a very bad movie... as read in other comments this movie has no plot, no character development, they possibly had some kind of script but it's difficult to tell based on the actual end result.<br /><br />The editing of this movie was really non-existent, it tends to jump from scene to scene without any connection or anything to assist the viewer in determining what is actually happening.<br /><br />All in all this is simply a low budget zombie flick that was not thought out at all, has bad acting, bad dialogue, bad everything.<br /><br />The only thing that saves this movie from a 1 or 2 is the gore factor, I think this must be where they spent whatever money they had to try to justify making this.<br /><br />Unless you are (like me) dedicated to finding and watching all the zombie flicks you can find, do not watch this. Period.\"\n",
            "Round-trip:  [UNK] this was a very bad movie as read in other comments this movie has no plot no character development they possibly had some kind of script but its difficult to tell based on the actual end [UNK] br the editing of this movie was really [UNK] it [UNK] to [UNK] from scene to scene without any [UNK] or anything to [UNK] the viewer in [UNK] what is actually [UNK] br all in all this is simply a low budget zombie flick that was not thought out at all has bad acting bad dialogue bad [UNK] br the only thing that [UNK] this movie from a 1 or 2 is the gore [UNK] i think this must be where they [UNK] whatever money they had to try to [UNK] making [UNK] br unless you are like me [UNK] to [UNK] and watching all the zombie [UNK] you can find do not watch this period                                                                                                                                                                                                                                                                                                                                                                                                                                                                                                                                                                                                                                                                                                                                                                                                                                                                      \n",
            "\n"
          ]
        }
      ],
      "source": [
        "for n in range(3):\n",
        "  print(\"Original: \", example[n].numpy())\n",
        "  print(\"Round-trip: \", \" \".join(vocab[encoded_example[n]]))\n",
        "  print()"
      ]
    },
    {
      "cell_type": "markdown",
      "metadata": {
        "id": "bjUqGVBxGw-t"
      },
      "source": [
        "## Create the model"
      ]
    },
    {
      "cell_type": "markdown",
      "metadata": {
        "id": "W7zsmInBOCPO"
      },
      "source": [
        "![A drawing of the information flow in the model](https://github.com/tensorflow/text/blob/master/docs/tutorials/images/bidirectional.png?raw=1)"
      ]
    },
    {
      "cell_type": "markdown",
      "metadata": {
        "id": "bgs6nnSTGw-t"
      },
      "source": [
        "Above is a diagram of the model.\n",
        "\n",
        "1. This model can be build as a `tf.keras.Sequential`.\n",
        "\n",
        "2. The first layer is the `encoder`, which converts the text to a sequence of token indices.\n",
        "\n",
        "3. After the encoder is an embedding layer. An embedding layer stores one vector per word. When called, it converts the sequences of word indices to sequences of vectors. These vectors are trainable. After training (on enough data), words with similar meanings often have similar vectors.\n",
        "\n",
        "  This index-lookup is much more efficient than the equivalent operation of passing a one-hot encoded vector through a `tf.keras.layers.Dense` layer.\n",
        "\n",
        "4. A recurrent neural network (RNN) processes sequence input by iterating through the elements. RNNs pass the outputs from one timestep to their input on the next timestep.\n",
        "\n",
        "  The `tf.keras.layers.Bidirectional` wrapper can also be used with an RNN layer. This propagates the input forward and backwards through the RNN layer and then concatenates the final output.\n",
        "\n",
        "  * The main advantage of a bidirectional RNN is that the signal from the beginning of the input doesn't need to be processed all the way through every timestep to affect the output.  \n",
        "\n",
        "  * The main disadvantage of a bidirectional RNN is that you can't efficiently stream predictions as words are being added to the end.\n",
        "\n",
        "5. After the RNN has converted the sequence to a single vector the two `layers.Dense` do some final processing, and convert from this vector representation to a single logit as the classification output.\n"
      ]
    },
    {
      "cell_type": "markdown",
      "metadata": {
        "id": "V4fodCI7soQi"
      },
      "source": [
        "The code to implement this is below:"
      ]
    },
    {
      "cell_type": "code",
      "execution_count": null,
      "metadata": {
        "id": "LwfoBkmRYcP3"
      },
      "outputs": [],
      "source": [
        "model = tf.keras.Sequential([\n",
        "    encoder,\n",
        "    tf.keras.layers.Embedding(\n",
        "        input_dim=len(encoder.get_vocabulary()),\n",
        "        output_dim=64,\n",
        "        # Use masking to handle the variable sequence lengths\n",
        "        mask_zero=True),\n",
        "    tf.keras.layers.Bidirectional(tf.keras.layers.LSTM(64)),\n",
        "    tf.keras.layers.Dense(64, activation='relu'),\n",
        "    tf.keras.layers.Dense(1)\n",
        "])"
      ]
    },
    {
      "cell_type": "markdown",
      "metadata": {
        "id": "QIGmIGkkouUb"
      },
      "source": [
        "Please note that Keras sequential model is used here since all the layers in the model only have single input and produce single output. In case you want to use stateful RNN layer, you might want to build your model with Keras functional API or model subclassing so that you can retrieve and reuse the RNN layer states. Please check [Keras RNN guide](https://www.tensorflow.org/guide/keras/rnn#rnn_state_reuse) for more details."
      ]
    },
    {
      "cell_type": "markdown",
      "metadata": {
        "id": "kF-PsCk1LwjY"
      },
      "source": [
        "The embedding layer [uses masking](https://www.tensorflow.org/guide/keras/masking_and_padding) to handle the varying sequence-lengths. All the layers after the `Embedding` support masking:"
      ]
    },
    {
      "cell_type": "code",
      "execution_count": null,
      "metadata": {
        "id": "87a8-CwfKebw",
        "colab": {
          "base_uri": "https://localhost:8080/"
        },
        "outputId": "68356195-946d-44c5-ef7f-3a3820deb467"
      },
      "outputs": [
        {
          "output_type": "stream",
          "name": "stdout",
          "text": [
            "[False, True, True, True, True]\n"
          ]
        }
      ],
      "source": [
        "print([layer.supports_masking for layer in model.layers])"
      ]
    },
    {
      "cell_type": "markdown",
      "metadata": {
        "id": "ZlS0iaUIWLpI"
      },
      "source": [
        "To confirm that this works as expected, evaluate a sentence twice. First, alone so there's no padding to mask:"
      ]
    },
    {
      "cell_type": "code",
      "execution_count": null,
      "metadata": {
        "id": "O41gw3KfWHus",
        "colab": {
          "base_uri": "https://localhost:8080/"
        },
        "outputId": "2aad6404-ebb1-42a9-df48-415399c57a2f"
      },
      "outputs": [
        {
          "output_type": "stream",
          "name": "stdout",
          "text": [
            "1/1 [==============================] - 7s 7s/step\n",
            "[-0.00185956]\n"
          ]
        }
      ],
      "source": [
        "# predict on a sample text without padding.\n",
        "\n",
        "sample_text = ('The movie was cool. The animation and the graphics '\n",
        "               'were out of this world. I would recommend this movie.')\n",
        "predictions = model.predict(np.array([sample_text]))\n",
        "print(predictions[0])"
      ]
    },
    {
      "cell_type": "markdown",
      "metadata": {
        "id": "K0VQmGnEWcuz"
      },
      "source": [
        "Now, evaluate it again in a batch with a longer sentence. The result should be identical:"
      ]
    },
    {
      "cell_type": "code",
      "execution_count": null,
      "metadata": {
        "id": "UIgpuTeFNDzq",
        "colab": {
          "base_uri": "https://localhost:8080/"
        },
        "outputId": "aad9a02e-8b6f-496e-ca87-c2827596cf85"
      },
      "outputs": [
        {
          "output_type": "stream",
          "name": "stdout",
          "text": [
            "1/1 [==============================] - 0s 95ms/step\n",
            "[-0.00185955]\n"
          ]
        }
      ],
      "source": [
        "# predict on a sample text with padding\n",
        "\n",
        "padding = \"the \" * 2000\n",
        "predictions = model.predict(np.array([sample_text, padding]))\n",
        "print(predictions[0])"
      ]
    },
    {
      "cell_type": "markdown",
      "metadata": {
        "id": "sRI776ZcH3Tf"
      },
      "source": [
        "Compile the Keras model to configure the training process:"
      ]
    },
    {
      "cell_type": "code",
      "execution_count": null,
      "metadata": {
        "id": "kj2xei41YZjC"
      },
      "outputs": [],
      "source": [
        "model.compile(loss=tf.keras.losses.BinaryCrossentropy(from_logits=True),\n",
        "              optimizer=tf.keras.optimizers.Adam(1e-4),\n",
        "              metrics=['accuracy'])"
      ]
    },
    {
      "cell_type": "markdown",
      "metadata": {
        "id": "zIwH3nto596k"
      },
      "source": [
        "## Train the model"
      ]
    },
    {
      "cell_type": "code",
      "execution_count": null,
      "metadata": {
        "id": "hw86wWS4YgR2",
        "colab": {
          "base_uri": "https://localhost:8080/"
        },
        "outputId": "4986566d-daba-4644-9ed3-55b2abc789a2"
      },
      "outputs": [
        {
          "output_type": "stream",
          "name": "stdout",
          "text": [
            "Epoch 1/10\n",
            "391/391 [==============================] - 50s 101ms/step - loss: 0.6319 - accuracy: 0.5914 - val_loss: 0.4827 - val_accuracy: 0.7714\n",
            "Epoch 2/10\n",
            "391/391 [==============================] - 26s 66ms/step - loss: 0.4011 - accuracy: 0.8174 - val_loss: 0.3671 - val_accuracy: 0.8161\n",
            "Epoch 3/10\n",
            "391/391 [==============================] - 25s 62ms/step - loss: 0.3419 - accuracy: 0.8494 - val_loss: 0.3369 - val_accuracy: 0.8526\n",
            "Epoch 4/10\n",
            "391/391 [==============================] - 25s 63ms/step - loss: 0.3206 - accuracy: 0.8607 - val_loss: 0.3303 - val_accuracy: 0.8526\n",
            "Epoch 5/10\n",
            "391/391 [==============================] - 24s 62ms/step - loss: 0.3175 - accuracy: 0.8627 - val_loss: 0.3325 - val_accuracy: 0.8401\n",
            "Epoch 6/10\n",
            "391/391 [==============================] - 25s 63ms/step - loss: 0.3071 - accuracy: 0.8670 - val_loss: 0.3222 - val_accuracy: 0.8542\n",
            "Epoch 7/10\n",
            "391/391 [==============================] - 24s 61ms/step - loss: 0.3077 - accuracy: 0.8671 - val_loss: 0.3239 - val_accuracy: 0.8583\n",
            "Epoch 8/10\n",
            "391/391 [==============================] - 25s 62ms/step - loss: 0.3032 - accuracy: 0.8698 - val_loss: 0.3331 - val_accuracy: 0.8531\n",
            "Epoch 9/10\n",
            "391/391 [==============================] - 24s 62ms/step - loss: 0.3024 - accuracy: 0.8700 - val_loss: 0.3259 - val_accuracy: 0.8484\n",
            "Epoch 10/10\n",
            "391/391 [==============================] - 25s 64ms/step - loss: 0.3001 - accuracy: 0.8710 - val_loss: 0.3243 - val_accuracy: 0.8521\n"
          ]
        }
      ],
      "source": [
        "history = model.fit(train_dataset, epochs=10,\n",
        "                    validation_data=test_dataset,\n",
        "                    validation_steps=30)"
      ]
    },
    {
      "cell_type": "code",
      "execution_count": null,
      "metadata": {
        "id": "BaNbXi43YgUT",
        "colab": {
          "base_uri": "https://localhost:8080/"
        },
        "outputId": "bebe6eaf-cd6f-4e26-a528-722d8d0a545a"
      },
      "outputs": [
        {
          "output_type": "stream",
          "name": "stdout",
          "text": [
            "391/391 [==============================] - 12s 30ms/step - loss: 0.3143 - accuracy: 0.8609\n",
            "Test Loss: 0.3142525553703308\n",
            "Test Accuracy: 0.8609200119972229\n"
          ]
        }
      ],
      "source": [
        "test_loss, test_acc = model.evaluate(test_dataset)\n",
        "\n",
        "print('Test Loss:', test_loss)\n",
        "print('Test Accuracy:', test_acc)"
      ]
    },
    {
      "cell_type": "code",
      "execution_count": null,
      "metadata": {
        "id": "OZmwt_mzaQJk",
        "colab": {
          "base_uri": "https://localhost:8080/",
          "height": 615
        },
        "outputId": "5650b828-da13-41d3-a70c-ca90fa697063"
      },
      "outputs": [
        {
          "output_type": "execute_result",
          "data": {
            "text/plain": [
              "(0.0, 0.6716410130262375)"
            ]
          },
          "metadata": {},
          "execution_count": 26
        },
        {
          "output_type": "display_data",
          "data": {
            "text/plain": [
              "<Figure size 1600x800 with 2 Axes>"
            ],
            "image/png": "[encoded data removed]"
          },
          "metadata": {}
        }
      ],
      "source": [
        "plt.figure(figsize=(16, 8))\n",
        "plt.subplot(1, 2, 1)\n",
        "plot_graphs(history, 'accuracy')\n",
        "plt.ylim(None, 1)\n",
        "plt.subplot(1, 2, 2)\n",
        "plot_graphs(history, 'loss')\n",
        "plt.ylim(0, None)"
      ]
    },
    {
      "cell_type": "markdown",
      "metadata": {
        "id": "DwSE_386uhxD"
      },
      "source": [
        "Run a prediction on a new sentence:\n",
        "\n",
        "If the prediction is >= 0.0, it is positive else it is negative."
      ]
    },
    {
      "cell_type": "code",
      "execution_count": null,
      "metadata": {
        "id": "ZXgfQSgRW6zU",
        "colab": {
          "base_uri": "https://localhost:8080/"
        },
        "outputId": "288a3f51-088d-4aa7-a079-42b7fd2fa39f"
      },
      "outputs": [
        {
          "output_type": "stream",
          "name": "stdout",
          "text": [
            "1/1 [==============================] - 2s 2s/step\n"
          ]
        }
      ],
      "source": [
        "sample_text = ('The movie was cool. The animation and the graphics '\n",
        "               'were out of this world. I would recommend this movie.')\n",
        "predictions = model.predict(np.array([sample_text]))"
      ]
    },
    {
      "cell_type": "code",
      "source": [
        "print(predictions[0])"
      ],
      "metadata": {
        "colab": {
          "base_uri": "https://localhost:8080/"
        },
        "id": "vfzHAX-4pwUD",
        "outputId": "123c9ae1-98d1-488a-8577-ef08a6ee40d2"
      },
      "execution_count": null,
      "outputs": [
        {
          "output_type": "stream",
          "name": "stdout",
          "text": [
            "[0.9830106]\n"
          ]
        }
      ]
    },
    {
      "cell_type": "code",
      "source": [
        "sample_text = ('i dont like this movie. The animation and the graphics '\n",
        "               'were bad. I would never recommend this movie.')\n",
        "predictions = model.predict(np.array([sample_text]))\n",
        "print(predictions[0])"
      ],
      "metadata": {
        "colab": {
          "base_uri": "https://localhost:8080/"
        },
        "id": "V8YL8YjJqB6V",
        "outputId": "e3cf0546-cdd7-4bd7-8700-f9ae75d9ca76"
      },
      "execution_count": null,
      "outputs": [
        {
          "output_type": "stream",
          "name": "stdout",
          "text": [
            "1/1 [==============================] - 0s 20ms/step\n",
            "[-0.7216321]\n"
          ]
        }
      ]
    },
    {
      "cell_type": "code",
      "source": [
        "sample_text = (\"i have no comment about about this movie\")\n",
        "predictions = model.predict(np.array([sample_text]))\n",
        "print(predictions[0])"
      ],
      "metadata": {
        "colab": {
          "base_uri": "https://localhost:8080/"
        },
        "id": "SmHsYIXJqB24",
        "outputId": "ebd1f0d8-0bac-4f89-d562-c35454fc0780"
      },
      "execution_count": null,
      "outputs": [
        {
          "output_type": "stream",
          "name": "stdout",
          "text": [
            "1/1 [==============================] - 0s 33ms/step\n",
            "[0.04610876]\n"
          ]
        }
      ]
    }
  ],
  "metadata": {
    "accelerator": "GPU",
    "colab": {
      "provenance": [],
      "toc_visible": true
    },
    "kernelspec": {
      "display_name": "Python 3",
      "name": "python3"
    }
  },
  "nbformat": 4,
  "nbformat_minor": 0
}